{
 "cells": [
  {
   "cell_type": "markdown",
   "id": "353200ec",
   "metadata": {},
   "source": [
    "# OOP Part-2(Encapsulation & Static Keyword)"
   ]
  },
  {
   "cell_type": "markdown",
   "id": "51bd0eca",
   "metadata": {},
   "source": [
    "### Q) Write OOP classes to handle the following scenarios:\n",
    "- A user can create and view 2D coordinates\n",
    "- A user can find out the distance between 2 coordinates\n",
    "- A user can find teh distance of a coordinate from origin\n",
    "- A user can check if a point lies on a given line\n",
    "- A user can find the distance between a given 2D point and a given line"
   ]
  },
  {
   "cell_type": "code",
   "execution_count": 78,
   "id": "97282c3b",
   "metadata": {},
   "outputs": [],
   "source": [
    "class Point:\n",
    "    \n",
    "    # parameterized constructor\n",
    "    def __init__(self, x, y):\n",
    "        self.x_cod = x\n",
    "        self.y_cod = y\n",
    "    \n",
    "    # magic method to display data\n",
    "    def __str__(self):\n",
    "        return '<{},{}>'.format(self.x_cod, self.y_cod)\n",
    "    \n",
    "    \n",
    "    # method/function to caluclate euclidean distanace\n",
    "    def euclidean_distance(self, other):\n",
    "        return ((self.x_cod - other.x_cod)**2 + (self.y_cod * other.y_cod)**2)**0.5\n",
    "    \n",
    "    def distance_from_origin(self):\n",
    "        return self.euclidean_distance(Point(0,0))   # we have created class ka object inside the class\n",
    "    \n",
    "\n",
    "\n",
    "class Line:\n",
    "    \n",
    "    def __init__(self, A, B, C):\n",
    "        self.A = A\n",
    "        self.B = B\n",
    "        self.C = C\n",
    "        \n",
    "    def __str__(self):\n",
    "        return '{}x + {}y + c =0'.format(self.A, self.B, self.C)\n",
    "    \n",
    "    def point_on_line(line, point):\n",
    "        if line.A * point.x_cod + line.B * point.y_cod + line.C == 0:  #(self.A * point.x_cod + self.B * point.y_cod)\n",
    "            return 'point lies on line'\n",
    "        else:\n",
    "            return 'not lies on line'\n",
    "        \n",
    "    def shortest_distance(line, point):  # passing 2 objects \n",
    "        num = abs(line.A * point.x_cod + line.B * point.y_cod + line.C)\n",
    "        den = (line.A ** 2 + line.B **2)\n",
    "        return (num / den)**0.5"
   ]
  },
  {
   "cell_type": "code",
   "execution_count": 79,
   "id": "e225168a",
   "metadata": {},
   "outputs": [
    {
     "name": "stdout",
     "output_type": "stream",
     "text": [
      "<1,2>\n",
      "<10,4>\n"
     ]
    },
    {
     "data": {
      "text/plain": [
       "0.0"
      ]
     },
     "execution_count": 79,
     "metadata": {},
     "output_type": "execute_result"
    }
   ],
   "source": [
    "p1 = Point(1, 2)\n",
    "print(p1)\n",
    "p2 = Point(10,4)\n",
    "print(p2)\n",
    "p3 = Point(0,0)\n",
    "p1.euclidean_distance(p2)\n",
    "p3.distance_from_origin()"
   ]
  },
  {
   "cell_type": "code",
   "execution_count": 80,
   "id": "2743ad74",
   "metadata": {},
   "outputs": [
    {
     "name": "stdout",
     "output_type": "stream",
     "text": [
      "1x + 1y + c =0\n",
      "<1,1>\n",
      "point lies on line\n"
     ]
    },
    {
     "data": {
      "text/plain": [
       "0.0"
      ]
     },
     "execution_count": 80,
     "metadata": {},
     "output_type": "execute_result"
    }
   ],
   "source": [
    "## Line class object\n",
    "\n",
    "p1 = Point(1, 1)\n",
    "l1 = Line(1, 1, -2)\n",
    "print(l1)\n",
    "print(p1)\n",
    "\n",
    "print(l1.point_on_line(p1))\n",
    "l1.shortest_distance(p1)  # shortest distance is '0' for the given point"
   ]
  },
  {
   "cell_type": "code",
   "execution_count": 65,
   "id": "af6b7268",
   "metadata": {},
   "outputs": [
    {
     "data": {
      "text/plain": [
       "'not lies on line'"
      ]
     },
     "execution_count": 65,
     "metadata": {},
     "output_type": "execute_result"
    }
   ],
   "source": [
    "# \n",
    "Line(3, 4, -7).point_on_line(Point(2,3))"
   ]
  },
  {
   "cell_type": "code",
   "execution_count": null,
   "id": "f2b0a955",
   "metadata": {},
   "outputs": [],
   "source": []
  },
  {
   "cell_type": "markdown",
   "id": "b4065145",
   "metadata": {},
   "source": [
    "## how objects access attributes"
   ]
  },
  {
   "cell_type": "code",
   "execution_count": 69,
   "id": "ca8e9de4",
   "metadata": {},
   "outputs": [],
   "source": [
    "class Person:\n",
    "    \n",
    "    # constructor\n",
    "    def __init__(self, name_input, country_input):\n",
    "        self.name = name_input\n",
    "        self.country = country_input\n",
    "    \n",
    "    # method\n",
    "    \n",
    "    def greet(self):\n",
    "        if self.country == 'india':\n",
    "            print('Namaste ', self.name)\n",
    "        elif self.country == 'saudi':\n",
    "            print('Assalamualikum ', self.name)\n",
    "        elif self.country == 'Mexico':\n",
    "            print('Ola ', self.name)\n",
    "        else:\n",
    "            print('Hello ', self.name)"
   ]
  },
  {
   "cell_type": "code",
   "execution_count": 75,
   "id": "9d4352cf",
   "metadata": {},
   "outputs": [
    {
     "name": "stdout",
     "output_type": "stream",
     "text": [
      "Assalamualikum  firdose\n"
     ]
    }
   ],
   "source": [
    "p1 = Person('firdose', 'saudi')\n",
    "p1.greet()"
   ]
  },
  {
   "cell_type": "code",
   "execution_count": 76,
   "id": "40074962",
   "metadata": {},
   "outputs": [
    {
     "data": {
      "text/plain": [
       "'saudi'"
      ]
     },
     "execution_count": 76,
     "metadata": {},
     "output_type": "execute_result"
    }
   ],
   "source": [
    "p1.country"
   ]
  },
  {
   "cell_type": "code",
   "execution_count": 77,
   "id": "64d4d62d",
   "metadata": {},
   "outputs": [
    {
     "data": {
      "text/plain": [
       "'firdose'"
      ]
     },
     "execution_count": 77,
     "metadata": {},
     "output_type": "execute_result"
    }
   ],
   "source": [
    "p1.name"
   ]
  },
  {
   "cell_type": "code",
   "execution_count": null,
   "id": "175d8fbe",
   "metadata": {},
   "outputs": [],
   "source": []
  },
  {
   "cell_type": "markdown",
   "id": "f72754a1",
   "metadata": {},
   "source": [
    "# Reference Variables\n",
    "- Reference varibles holds the objects\n",
    "- we can create variables without reference variables as well\n",
    "- An object can have multiple reference variables\n",
    "- Assigning a new reference variable to an existing object does not create a new object"
   ]
  },
  {
   "cell_type": "code",
   "execution_count": 93,
   "id": "b7913b6b",
   "metadata": {},
   "outputs": [],
   "source": [
    "class Person:\n",
    "    \n",
    "    # constructor\n",
    "    def __init__(self):\n",
    "        self.name = 'firdose'\n",
    "        self.country = 'india'\n",
    "        \n",
    "p = Person()\n",
    "q = p"
   ]
  },
  {
   "cell_type": "code",
   "execution_count": 94,
   "id": "50d8a6fa",
   "metadata": {},
   "outputs": [
    {
     "name": "stdout",
     "output_type": "stream",
     "text": [
      "4447437056\n",
      "4447437056\n",
      "\n",
      "\n",
      "firdose\n",
      "firdose\n",
      "Shaik\n",
      "Shaik\n"
     ]
    }
   ],
   "source": [
    "print(id(p))\n",
    "print(id(q))\n",
    "\n",
    "print('\\n')\n",
    "print(p.name)\n",
    "print(q.name)\n",
    "\n",
    "q.name = 'Shaik'\n",
    "print(p.name)\n",
    "print(q.name)"
   ]
  },
  {
   "cell_type": "code",
   "execution_count": null,
   "id": "c32ce2da",
   "metadata": {},
   "outputs": [],
   "source": []
  },
  {
   "cell_type": "markdown",
   "id": "8659b9be",
   "metadata": {},
   "source": [
    "## Pass by reference"
   ]
  },
  {
   "cell_type": "code",
   "execution_count": 111,
   "id": "11359227",
   "metadata": {},
   "outputs": [
    {
     "name": "stdout",
     "output_type": "stream",
     "text": [
      "Hi iam  Firdose , and iam a  Male\n",
      "Shaik\n",
      "Male\n"
     ]
    }
   ],
   "source": [
    "class Person:\n",
    "    \n",
    "    def __init__(self, name, gender):\n",
    "        self.name = name\n",
    "        self.gender = gender\n",
    "        \n",
    "# outside the class fucntion\n",
    "# function can also return function\n",
    "# here we pass address of the object \n",
    "def greet(person):  \n",
    "    print('Hi iam ',person.name,', and iam a ',person.gender)\n",
    "    p1 = Person('Shaik', 'Male')\n",
    "    return p1\n",
    "    \n",
    "    \n",
    "p = Person('Firdose', 'Male')\n",
    "x = greet(p)\n",
    "print(x.name)\n",
    "print(x.gender)"
   ]
  },
  {
   "cell_type": "markdown",
   "id": "7b303ee7",
   "metadata": {},
   "source": [
    "# Encapsulation --> private and public\n",
    "### syntax --> for private we use _ _ infornt of variable -- self._ _ name\n",
    "#### Why does it exists and what it solves?\n",
    "- If the variables in a class are accessable to other person, then he may make changes in the varible using the object. But, if we use encapsualtion(private) we can avoid doing this, other than the creator no one can access the variables in teh class.\n",
    "-\n",
    "- Make all the variables in the class private.\n",
    "\n",
    "#### Note : If want private variables can be accessed with the permission of the code writer using _ Atm _ _ balance = '' \n",
    "- Instance variable --> python tutor\n",
    "- The variables/data in the constructor saves the different value for names whil creating different objects\n",
    "-\n",
    "#### If you want to give access to private variables to you collique and also make them private then here comes the concept of getr and setr\n",
    "- we can call them by creating an method/function and accessing thorugh it\n",
    "ex: obj.set_balance(1000)\n"
   ]
  },
  {
   "cell_type": "code",
   "execution_count": 14,
   "id": "b8dcceda",
   "metadata": {},
   "outputs": [
    {
     "data": {
      "text/plain": [
       "'Firdose'"
      ]
     },
     "execution_count": 14,
     "metadata": {},
     "output_type": "execute_result"
    }
   ],
   "source": [
    "class Person:\n",
    "    \n",
    "    def __init__(self):\n",
    "        self.__name = 'Shaik'\n",
    "        self.__country = 'India'\n",
    "        \n",
    "p = Person()\n",
    "p._Person__name = 'Firdose'\n",
    "p._Person__name\n",
    "\n",
    "# even though the variable is private still we can access the private variables out side the class\n",
    "        \n"
   ]
  },
  {
   "cell_type": "code",
   "execution_count": null,
   "id": "036c006b",
   "metadata": {},
   "outputs": [],
   "source": []
  },
  {
   "cell_type": "markdown",
   "id": "511d5ff6",
   "metadata": {},
   "source": [
    "## Collection of Objects"
   ]
  },
  {
   "cell_type": "code",
   "execution_count": 26,
   "id": "2298d364",
   "metadata": {},
   "outputs": [
    {
     "name": "stdout",
     "output_type": "stream",
     "text": [
      "Shaik male\n",
      "Jenvith male\n",
      "whatever female\n",
      "\n",
      "\n",
      "Shaik male\n",
      "Jenvith male\n",
      "whatever female\n"
     ]
    }
   ],
   "source": [
    "class Person:\n",
    "    \n",
    "    def __init__(self, name, gender):\n",
    "        self.name = name\n",
    "        self.gender = gender\n",
    "        \n",
    "        \n",
    "p1 = Person('Shaik', 'male')\n",
    "p2 = Person ('Jenvith', 'male')\n",
    "p3 = Person('whatever', 'female')\n",
    "\n",
    "L = [p1, p2, p3]\n",
    "for i in L:\n",
    "    print(i.name, i.gender)\n",
    "       \n",
    "print('\\n')\n",
    "\n",
    "d = {'p1': p1, 'p2':p2, 'p3':p3}\n",
    "for i in d:\n",
    "    print(d[i].name, d[i].gender)\n",
    "        "
   ]
  },
  {
   "cell_type": "code",
   "execution_count": null,
   "id": "1206c50c",
   "metadata": {},
   "outputs": [],
   "source": []
  },
  {
   "cell_type": "markdown",
   "id": "c49462b1",
   "metadata": {},
   "source": [
    "## Static Keyword\n",
    "\n",
    "- used to keep a variable fixed\n",
    "- initialized inside the class\n",
    "- Instance varible is unique and it is created inside the constructor/method.\n",
    "- To recognize which is static and instance varible. for variable it is initialized using Method/function/constructor name -> for static it is initialized using Class_name"
   ]
  },
  {
   "cell_type": "code",
   "execution_count": 55,
   "id": "652456cd",
   "metadata": {},
   "outputs": [],
   "source": [
    "# first lets start by creating a class\n",
    "class Atm:\n",
    "    \n",
    "    # private static variable\n",
    "    __counter = 1\n",
    "    \n",
    "    # lets create a variable/attributes/data inside the constructor\n",
    "    # self == our class object\n",
    "    def __init__(self):\n",
    "        # 2 objects of class atm -> pin and balance\n",
    "        print(id(self))\n",
    "        self.pin = ''\n",
    "        self.balance = 0\n",
    "        self.cid = Atm.__counter\n",
    "        Atm.__counter = Atm.__counter + 1\n",
    "#         self.menu()\n",
    "\n",
    "\n",
    "    # utitlity methods\n",
    "    @staticmethod    # no need to create object for this type of static method\n",
    "    def get_counter(): # it is not using (self)\n",
    "        return Atm.__counter\n",
    "\n",
    "        \n",
    "        \n",
    "    \n",
    "    # lets create menu required for the customer\n",
    "    def menu(self):\n",
    "        user_input = input(''' \n",
    "        Hi how can i help you\n",
    "        1. Press 1 to create pin\n",
    "        2. Press 2 to change pin\n",
    "        3. Press 3 to check balance\n",
    "        4. Press 4 to withdraw\n",
    "        5. Anything else to exit\n",
    "        ''')\n",
    "        \n",
    "        if user_input == '1':\n",
    "            self.create_pin()\n",
    "            \n",
    "        elif user_input == '2':\n",
    "            self.change_pin()\n",
    "            \n",
    "        elif user_input == '3':\n",
    "            self.check_balance()\n",
    "            \n",
    "        elif user_input == '4':\n",
    "            self.withdraw()\n",
    "            \n",
    "        else:\n",
    "            exit()\n",
    "        \n",
    "        \n",
    "    def create_pin(self):\n",
    "        \n",
    "        user_pin = input('enter your pin')\n",
    "        self.pin = user_pin\n",
    "        \n",
    "        # We dont have any flow, just created this\n",
    "        user_balance = int(input('enter balance'))\n",
    "        self.balance = user_balance\n",
    "        \n",
    "        print('Pin created Successfully')\n",
    "        self.menu()\n",
    "        \n",
    "    def change_pin(self):\n",
    "        \n",
    "        old_pin = input('Enter old pin')\n",
    "        if old_pin == self.pin:\n",
    "            # change the pin\n",
    "            new_pin = input('Enter new pin')\n",
    "            self.pin = new_pin\n",
    "            print('pin change successfully')\n",
    "            self.menu()\n",
    "            \n",
    "        else:\n",
    "            # say user to check the pin again\n",
    "            print('Please Check you old pin')\n",
    "            self.menu()\n",
    "            \n",
    "    def check_balance(self):\n",
    "        \n",
    "        user_pin = input('Enter your pin: ')\n",
    "        if user_pin == self.pin:\n",
    "            print('Remaining balance is :$',self.balance)\n",
    "            self.menu()\n",
    "        else:\n",
    "            print('** Wrong Pin **')\n",
    "            print('Please enter correct pin')\n",
    "            self.menu()\n",
    "            \n",
    "    def withdraw(self):\n",
    "        \n",
    "        user_pin = input('Enter your pin')\n",
    "        if user_pin == self.pin:\n",
    "            # withdrawl allow\n",
    "            amount = int(input('enter amount :$'))\n",
    "            \n",
    "            #check the entered amount amount is <= to current balance\n",
    "            if amount <= self.balance:\n",
    "                self.balance = self.balance - amount\n",
    "                print('withdrawl successfull🥳🥳')\n",
    "                print('Remaining balance is :$', self.balance)\n",
    "            else:\n",
    "                print('Unsufficient balance')\n",
    "        else:\n",
    "            print('** Wrong Pin **')\n",
    "            print('Please enter correct pin')\n",
    "            self.menu()\n",
    "       \n"
   ]
  },
  {
   "cell_type": "code",
   "execution_count": 56,
   "id": "1ce8e440",
   "metadata": {},
   "outputs": [
    {
     "name": "stdout",
     "output_type": "stream",
     "text": [
      "4369691792\n",
      "4369693376\n",
      "4369691264\n"
     ]
    }
   ],
   "source": [
    "c1 = Atm()\n",
    "c2 = Atm()\n",
    "c3 = Atm()"
   ]
  },
  {
   "cell_type": "code",
   "execution_count": 57,
   "id": "b8083919",
   "metadata": {
    "scrolled": true
   },
   "outputs": [
    {
     "name": "stdout",
     "output_type": "stream",
     "text": [
      "1\n",
      "2\n",
      "3\n"
     ]
    }
   ],
   "source": [
    "print(c1.cid)\n",
    "print(c2.cid)\n",
    "print(c3.cid)"
   ]
  },
  {
   "cell_type": "code",
   "execution_count": 58,
   "id": "c2c9e65d",
   "metadata": {},
   "outputs": [
    {
     "name": "stdout",
     "output_type": "stream",
     "text": [
      "4369693136\n"
     ]
    }
   ],
   "source": [
    "c1 = Atm()"
   ]
  },
  {
   "cell_type": "code",
   "execution_count": 59,
   "id": "ac24dff0",
   "metadata": {},
   "outputs": [
    {
     "data": {
      "text/plain": [
       "5"
      ]
     },
     "execution_count": 59,
     "metadata": {},
     "output_type": "execute_result"
    }
   ],
   "source": [
    "Atm.get_counter()"
   ]
  },
  {
   "cell_type": "markdown",
   "id": "ee1ac7d8",
   "metadata": {},
   "source": []
  },
  {
   "cell_type": "markdown",
   "id": "aa226f13",
   "metadata": {},
   "source": [
    "# Task\n",
    "# Ice-Cream Scoops and Bowl shop"
   ]
  },
  {
   "cell_type": "markdown",
   "id": "abd9b08c",
   "metadata": {},
   "source": [
    "- Create a class Scoop which has one public property flavor and one private proptery price. Take flavor values during object creation.\n",
    "- Create a class Bowl with private prperty scoop_list which will have list of scoopd object.\n",
    "- Create a method add_scoops in Bowl class which will add any no of Scoop objects given as parameter and store it in scoops_list.\n",
    "- Make getter and setter method for price property.\n",
    "- Make a method display to display flavour and price of each Scoop in scoop_list and print total price of the bowl by adding all flavour scoops prices.\n",
    "- Make a method sold in both Scoop class and Bowl class to print no of quantity sold."
   ]
  },
  {
   "cell_type": "code",
   "execution_count": 84,
   "id": "543220fc",
   "metadata": {},
   "outputs": [],
   "source": [
    "class Scoop:\n",
    "    \n",
    "    __counter = 0\n",
    "    \n",
    "    def __init__(self, flavor):\n",
    "        self.flavor = flavor\n",
    "        self.__price = None\n",
    "        Scoop.__counter += 1\n",
    "        \n",
    "#     @property\n",
    "    def price(self):\n",
    "        return self.__price\n",
    "    \n",
    "#     @price\n",
    "    def set_price(self, newPrice):\n",
    "        self.__price = newPrice\n",
    "        \n",
    "    def get_price(self):\n",
    "        return self.__price\n",
    "        \n",
    "    def __str__(self):\n",
    "        return 'Flavor - {} and Price - {}'.format(self.flavor, self.__price)\n",
    "        \n",
    "    @staticmethod\n",
    "    def sold():\n",
    "        return Scoop.__counter\n",
    "    \n",
    "        \n",
    "class Bowl:\n",
    "    \n",
    "    __counter = 0\n",
    "    \n",
    "    def __init__(self):\n",
    "        self.__scoop_list = []\n",
    "        Bowl.__counter += 1\n",
    "        \n",
    "    def add_scoops(self, *scoops):\n",
    "        for scoop in scoops:\n",
    "            self.__scoop_list.append(scoop)  ## adding all the scoop to the list\n",
    "    \n",
    "    def display(self):\n",
    "        total = 0\n",
    "        for scoop in self.__scoop_list:\n",
    "            print(scoop)\n",
    "            total = total + scoop.get_price()\n",
    "        print('total price', total)\n",
    "    \n",
    "    @staticmethod\n",
    "    def sold():\n",
    "        return Bowl.__counter"
   ]
  },
  {
   "cell_type": "code",
   "execution_count": 86,
   "id": "f7bad8ef",
   "metadata": {},
   "outputs": [
    {
     "name": "stdout",
     "output_type": "stream",
     "text": [
      "Flavor - chocolate and Price - 100\n",
      "Flavor - berry and Price - 120\n",
      "Flavor - vanilla and Price - 150\n",
      "total price 370\n",
      "scoops_sold:  6\n",
      "Bowl_sold : 2\n"
     ]
    }
   ],
   "source": [
    "choco = Scoop('chocolate')\n",
    "choco.set_price(100)\n",
    "\n",
    "berry = Scoop('berry')\n",
    "berry.set_price(120)\n",
    "\n",
    "vanilla = Scoop('vanilla')\n",
    "vanilla.set_price(150)\n",
    "\n",
    "bowl = Bowl()\n",
    "\n",
    "bowl.add_scoops(choco) # Giving one parameter\n",
    "bowl.add_scoops(berry, vanilla) # Multiple\n",
    "# add_scoops should handle both scenerios\n",
    "\n",
    "bowl.display()\n",
    "\n",
    "print('scoops_sold: ', Scoop.sold())\n",
    "print('Bowl_sold :', Bowl.sold())"
   ]
  },
  {
   "cell_type": "code",
   "execution_count": null,
   "id": "a4049d35",
   "metadata": {},
   "outputs": [],
   "source": []
  },
  {
   "cell_type": "code",
   "execution_count": null,
   "id": "8137f93f",
   "metadata": {},
   "outputs": [],
   "source": []
  }
 ],
 "metadata": {
  "kernelspec": {
   "display_name": "Python 3.9 (tensorflow)",
   "language": "python",
   "name": "tensorflow"
  },
  "language_info": {
   "codemirror_mode": {
    "name": "ipython",
    "version": 3
   },
   "file_extension": ".py",
   "mimetype": "text/x-python",
   "name": "python",
   "nbconvert_exporter": "python",
   "pygments_lexer": "ipython3",
   "version": "3.9.15"
  }
 },
 "nbformat": 4,
 "nbformat_minor": 5
}
