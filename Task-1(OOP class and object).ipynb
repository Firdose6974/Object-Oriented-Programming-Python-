{
 "cells": [
  {
   "cell_type": "markdown",
   "id": "8f7d0608",
   "metadata": {},
   "source": [
    "# Task-1(OOP class and object)"
   ]
  },
  {
   "cell_type": "markdown",
   "id": "74770704",
   "metadata": {},
   "source": [
    "## Q-2: Bank Class\n",
    "- Create a Python class called BankAccount which represents a bank account, having as attributes: accountNumber (numeric type), name (name of the account owner as string type), balance.\n",
    "- Create a constructor with parameters: accountNumber, name, balance.\n",
    "- Create a Deposit() method which manages the deposit actions.\n",
    "- Create a Withdrawal() method which manages withdrawals actions.\n",
    "- Create an bankFees() method to apply the bank fees with a percentage of 5% of the balance account.\n",
    "- Create a display() method to display account details. Give the complete code for the BankAccount class."
   ]
  },
  {
   "cell_type": "markdown",
   "id": "c5c5a505",
   "metadata": {},
   "source": [
    "#### Eg. After making above classes and methods, on executing below code:-\n",
    "\n",
    "- newAccount = BankAccount(2178514584, \"Mandy\" , 2800)\n",
    "\n",
    "- newAccount.Withdrawal(700)\n",
    "\n",
    "- newAccount.Deposit(1000)\n",
    "\n",
    "- newAccount.display()"
   ]
  },
  {
   "cell_type": "markdown",
   "id": "ee094492",
   "metadata": {},
   "source": [
    "#### Output:\n",
    "\n",
    "- Account Number :  2178514584\n",
    "- Account Name :  Mandy\n",
    "- Account Balance :  3100 ₹"
   ]
  },
  {
   "cell_type": "code",
   "execution_count": 61,
   "id": "e15bc5ca",
   "metadata": {},
   "outputs": [],
   "source": [
    "class BankAccount:\n",
    "    \n",
    "    # constructor\n",
    "    def __init__(self, accountNumber, name, balance):\n",
    "        self.accountNumber = accountNumber\n",
    "        self.name = name\n",
    "        self.balance = balance\n",
    "     \n",
    "    # method-1\n",
    "    def Deposit(self, amount):\n",
    "            self.balance = self.balance + amount\n",
    "            print('Deposit successfull, Current balance is :$', self.balance)\n",
    "    \n",
    "    # method-2\n",
    "    def withdrawal(self, amount):\n",
    "        if amount > self.balance:\n",
    "            print('Insufficient funds !!')\n",
    "        else:\n",
    "            self.balance = self.balance - amount\n",
    "            print('Withdrawl successfull, Current balance is:$',self.balance)\n",
    "    \n",
    "    # method-3\n",
    "    def bankFees(self):\n",
    "            fees = self.balance * 0.05\n",
    "            self.balance = self.balance - fees\n",
    "            print('Remaining balance after bank fees charge $:', self.balance)\n",
    "    \n",
    "    def display(self):\n",
    "        print('AccountNumber :', self.accountNumber)\n",
    "        print('Account holer_name :', self.name)\n",
    "        print('Amount balance :', self.balance,'$')\n",
    "    \n",
    "        "
   ]
  },
  {
   "cell_type": "code",
   "execution_count": 62,
   "id": "f4999086",
   "metadata": {},
   "outputs": [
    {
     "name": "stdout",
     "output_type": "stream",
     "text": [
      "Withdrawl successfull, Current balance is:$ 2100\n",
      "Deposit successfull, Current balance is :$ 3100\n",
      "AccountNumber : 2178514584\n",
      "Account holer_name : Mandy\n",
      "Amount balance : 3100 $\n"
     ]
    }
   ],
   "source": [
    "newAccount = BankAccount(2178514584, \"Mandy\" , 2800)\n",
    "newAccount.withdrawal(700)\n",
    "newAccount.Deposit(1000)\n",
    "newAccount.display()"
   ]
  },
  {
   "cell_type": "code",
   "execution_count": null,
   "id": "d58a2ea3",
   "metadata": {},
   "outputs": [],
   "source": []
  },
  {
   "cell_type": "markdown",
   "id": "e2207009",
   "metadata": {},
   "source": [
    "## Q-4: Build flashcard using class in Python.\n",
    "- Build a flashcard using class in python. A flashcard is a card having information on both sides, which can be used as an aid in memoization. Flashcards usually have a question on one side and an answer on the other.\n",
    "\n",
    "#### Approach:\n",
    "\n",
    "- Create a class named FlashCard.\n",
    "- Initialize dictionary fruits using init() method. Here you have to define fruit name as key and it's color as value. E.g., {\"Banana\": \"yellow\", \"Strawberries\": \"pink\"}\n",
    "- Now randomly choose a pair from fruits by using random module and store the key in variable fruit and value in variable color.\n",
    "- Now prompt the user to answer the color of the randomly chosen fruit.\n",
    "- If correct print correct else print wrong.\n",
    "\n",
    "#### Output:\n",
    "\n",
    "- welcome to fruit quiz\n",
    "- What is the color of Strawberries\n",
    "  pink\n",
    "- Correct answer\n",
    "- Enter 0, if you want to play again: 0\n",
    "- What is the color of watermelon\n",
    "  green\n",
    "- Correct answer\n",
    "- Enter 0, if you want to play again: 1"
   ]
  },
  {
   "cell_type": "code",
   "execution_count": 90,
   "id": "9685751c",
   "metadata": {},
   "outputs": [],
   "source": [
    "import random\n",
    "\n",
    "class FlashCard:\n",
    "    \n",
    "    def __init__(self):\n",
    "        self.fruits = {'Banana':'Yellow',\n",
    "                       'strawberries':'pink',\n",
    "                       'watermelon':'green',\n",
    "                      'apples':'red',\n",
    "                      'grapes':'purple',\n",
    "                      'orange':'orange'}\n",
    "    \n",
    "        \n",
    "#     def get_random_fruit(self):\n",
    "#         fruit, colour = random.choice(list(self.fruits.items()))\n",
    "#         return fruit, colour\n",
    "    \n",
    "    def guess_fruit(self):\n",
    "        \n",
    "        print('Welcome to the fruit Quiz')\n",
    "        \n",
    "        while True:\n",
    "            \n",
    "            fruit, colour = random.choice(list(fruits.items()))\n",
    "            \n",
    "           \n",
    "            user_input = input(f'what is the color of {fruit}?')\n",
    "\n",
    "            if user_input.lower() == colour.lower():\n",
    "                print('correct answer')\n",
    "            else:\n",
    "                print(f'wrong! The color of the fruit is {colour}.')\n",
    "            \n",
    "        \n",
    "        "
   ]
  },
  {
   "cell_type": "code",
   "execution_count": 91,
   "id": "da9f084d",
   "metadata": {},
   "outputs": [
    {
     "name": "stdout",
     "output_type": "stream",
     "text": [
      "Welcome to the fruit Quiz\n",
      "what is the color of orange?orange\n",
      "correct answer\n",
      "what is the color of grapes?purple\n",
      "correct answer\n",
      "what is the color of Banana?yellow\n",
      "correct answer\n",
      "what is the color of strawberries?pink\n",
      "correct answer\n",
      "what is the color of apples?orange\n",
      "wrong! The color of the fruit isred.\n"
     ]
    },
    {
     "ename": "KeyboardInterrupt",
     "evalue": "Interrupted by user",
     "output_type": "error",
     "traceback": [
      "\u001b[0;31m---------------------------------------------------------------------------\u001b[0m",
      "\u001b[0;31mKeyboardInterrupt\u001b[0m                         Traceback (most recent call last)",
      "Cell \u001b[0;32mIn[91], line 2\u001b[0m\n\u001b[1;32m      1\u001b[0m fc \u001b[38;5;241m=\u001b[39m FlashCard()\n\u001b[0;32m----> 2\u001b[0m \u001b[43mfc\u001b[49m\u001b[38;5;241;43m.\u001b[39;49m\u001b[43mguess_fruit\u001b[49m\u001b[43m(\u001b[49m\u001b[43m)\u001b[49m\n",
      "Cell \u001b[0;32mIn[90], line 27\u001b[0m, in \u001b[0;36mFlashCard.guess_fruit\u001b[0;34m(self)\u001b[0m\n\u001b[1;32m     22\u001b[0m \u001b[38;5;28;01mwhile\u001b[39;00m \u001b[38;5;28;01mTrue\u001b[39;00m:\n\u001b[1;32m     24\u001b[0m     fruit, colour \u001b[38;5;241m=\u001b[39m random\u001b[38;5;241m.\u001b[39mchoice(\u001b[38;5;28mlist\u001b[39m(fruits\u001b[38;5;241m.\u001b[39mitems()))\n\u001b[0;32m---> 27\u001b[0m     user_input \u001b[38;5;241m=\u001b[39m \u001b[38;5;28;43minput\u001b[39;49m\u001b[43m(\u001b[49m\u001b[38;5;124;43mf\u001b[39;49m\u001b[38;5;124;43m'\u001b[39;49m\u001b[38;5;124;43mwhat is the color of \u001b[39;49m\u001b[38;5;132;43;01m{\u001b[39;49;00m\u001b[43mfruit\u001b[49m\u001b[38;5;132;43;01m}\u001b[39;49;00m\u001b[38;5;124;43m?\u001b[39;49m\u001b[38;5;124;43m'\u001b[39;49m\u001b[43m)\u001b[49m\n\u001b[1;32m     29\u001b[0m     \u001b[38;5;28;01mif\u001b[39;00m user_input\u001b[38;5;241m.\u001b[39mlower() \u001b[38;5;241m==\u001b[39m colour\u001b[38;5;241m.\u001b[39mlower():\n\u001b[1;32m     30\u001b[0m         \u001b[38;5;28mprint\u001b[39m(\u001b[38;5;124m'\u001b[39m\u001b[38;5;124mcorrect answer\u001b[39m\u001b[38;5;124m'\u001b[39m)\n",
      "File \u001b[0;32m~/miniforge3/envs/tensorflow/lib/python3.9/site-packages/ipykernel/kernelbase.py:1175\u001b[0m, in \u001b[0;36mKernel.raw_input\u001b[0;34m(self, prompt)\u001b[0m\n\u001b[1;32m   1171\u001b[0m \u001b[38;5;28;01mif\u001b[39;00m \u001b[38;5;129;01mnot\u001b[39;00m \u001b[38;5;28mself\u001b[39m\u001b[38;5;241m.\u001b[39m_allow_stdin:\n\u001b[1;32m   1172\u001b[0m     \u001b[38;5;28;01mraise\u001b[39;00m StdinNotImplementedError(\n\u001b[1;32m   1173\u001b[0m         \u001b[38;5;124m\"\u001b[39m\u001b[38;5;124mraw_input was called, but this frontend does not support input requests.\u001b[39m\u001b[38;5;124m\"\u001b[39m\n\u001b[1;32m   1174\u001b[0m     )\n\u001b[0;32m-> 1175\u001b[0m \u001b[38;5;28;01mreturn\u001b[39;00m \u001b[38;5;28;43mself\u001b[39;49m\u001b[38;5;241;43m.\u001b[39;49m\u001b[43m_input_request\u001b[49m\u001b[43m(\u001b[49m\n\u001b[1;32m   1176\u001b[0m \u001b[43m    \u001b[49m\u001b[38;5;28;43mstr\u001b[39;49m\u001b[43m(\u001b[49m\u001b[43mprompt\u001b[49m\u001b[43m)\u001b[49m\u001b[43m,\u001b[49m\n\u001b[1;32m   1177\u001b[0m \u001b[43m    \u001b[49m\u001b[38;5;28;43mself\u001b[39;49m\u001b[38;5;241;43m.\u001b[39;49m\u001b[43m_parent_ident\u001b[49m\u001b[43m[\u001b[49m\u001b[38;5;124;43m\"\u001b[39;49m\u001b[38;5;124;43mshell\u001b[39;49m\u001b[38;5;124;43m\"\u001b[39;49m\u001b[43m]\u001b[49m\u001b[43m,\u001b[49m\n\u001b[1;32m   1178\u001b[0m \u001b[43m    \u001b[49m\u001b[38;5;28;43mself\u001b[39;49m\u001b[38;5;241;43m.\u001b[39;49m\u001b[43mget_parent\u001b[49m\u001b[43m(\u001b[49m\u001b[38;5;124;43m\"\u001b[39;49m\u001b[38;5;124;43mshell\u001b[39;49m\u001b[38;5;124;43m\"\u001b[39;49m\u001b[43m)\u001b[49m\u001b[43m,\u001b[49m\n\u001b[1;32m   1179\u001b[0m \u001b[43m    \u001b[49m\u001b[43mpassword\u001b[49m\u001b[38;5;241;43m=\u001b[39;49m\u001b[38;5;28;43;01mFalse\u001b[39;49;00m\u001b[43m,\u001b[49m\n\u001b[1;32m   1180\u001b[0m \u001b[43m\u001b[49m\u001b[43m)\u001b[49m\n",
      "File \u001b[0;32m~/miniforge3/envs/tensorflow/lib/python3.9/site-packages/ipykernel/kernelbase.py:1217\u001b[0m, in \u001b[0;36mKernel._input_request\u001b[0;34m(self, prompt, ident, parent, password)\u001b[0m\n\u001b[1;32m   1214\u001b[0m             \u001b[38;5;28;01mbreak\u001b[39;00m\n\u001b[1;32m   1215\u001b[0m \u001b[38;5;28;01mexcept\u001b[39;00m \u001b[38;5;167;01mKeyboardInterrupt\u001b[39;00m:\n\u001b[1;32m   1216\u001b[0m     \u001b[38;5;66;03m# re-raise KeyboardInterrupt, to truncate traceback\u001b[39;00m\n\u001b[0;32m-> 1217\u001b[0m     \u001b[38;5;28;01mraise\u001b[39;00m \u001b[38;5;167;01mKeyboardInterrupt\u001b[39;00m(\u001b[38;5;124m\"\u001b[39m\u001b[38;5;124mInterrupted by user\u001b[39m\u001b[38;5;124m\"\u001b[39m) \u001b[38;5;28;01mfrom\u001b[39;00m \u001b[38;5;28mNone\u001b[39m\n\u001b[1;32m   1218\u001b[0m \u001b[38;5;28;01mexcept\u001b[39;00m \u001b[38;5;167;01mException\u001b[39;00m:\n\u001b[1;32m   1219\u001b[0m     \u001b[38;5;28mself\u001b[39m\u001b[38;5;241m.\u001b[39mlog\u001b[38;5;241m.\u001b[39mwarning(\u001b[38;5;124m\"\u001b[39m\u001b[38;5;124mInvalid Message:\u001b[39m\u001b[38;5;124m\"\u001b[39m, exc_info\u001b[38;5;241m=\u001b[39m\u001b[38;5;28;01mTrue\u001b[39;00m)\n",
      "\u001b[0;31mKeyboardInterrupt\u001b[0m: Interrupted by user"
     ]
    }
   ],
   "source": [
    "fc = FlashCard()\n",
    "fc.guess_fruit()"
   ]
  },
  {
   "cell_type": "code",
   "execution_count": null,
   "id": "a77bc88e",
   "metadata": {},
   "outputs": [],
   "source": []
  }
 ],
 "metadata": {
  "kernelspec": {
   "display_name": "Python 3.9 (tensorflow)",
   "language": "python",
   "name": "tensorflow"
  },
  "language_info": {
   "codemirror_mode": {
    "name": "ipython",
    "version": 3
   },
   "file_extension": ".py",
   "mimetype": "text/x-python",
   "name": "python",
   "nbconvert_exporter": "python",
   "pygments_lexer": "ipython3",
   "version": "3.9.15"
  }
 },
 "nbformat": 4,
 "nbformat_minor": 5
}
