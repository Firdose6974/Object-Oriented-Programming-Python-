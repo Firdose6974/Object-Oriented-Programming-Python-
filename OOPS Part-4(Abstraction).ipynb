{
 "cells": [
  {
   "cell_type": "markdown",
   "id": "84b94054",
   "metadata": {},
   "source": [
    "# Abstraction\n",
    "- It is nothing but a security check for the application\n",
    "- We can not create object of Abstract class\n",
    "- Putting a constraint on the child class to write a security code to access the data from parent class\n",
    "- There will be no code written in abstract method"
   ]
  },
  {
   "cell_type": "code",
   "execution_count": 15,
   "id": "37d478f5",
   "metadata": {},
   "outputs": [],
   "source": [
    "from abc import ABC, abstractmethod\n",
    "\n",
    "class BankAPP(ABC): # --> it becomes abstract method when we inherit ABC \n",
    "    \n",
    "    def database(self):\n",
    "        print('connected to database')\n",
    "        \n",
    "    @abstractmethod\n",
    "    def security(self):\n",
    "        pass\n",
    "    \n",
    "    @abstract"
   ]
  },
  {
   "cell_type": "code",
   "execution_count": 20,
   "id": "895e0088",
   "metadata": {},
   "outputs": [],
   "source": [
    "class MobileAPP(BankAPP):\n",
    "    \n",
    "    def mobile_login(self):\n",
    "        print('login into mobile')\n",
    "        \n",
    "        # if you want to use BankAPP you need to write security code to access the BankAPP\n",
    "    def security(self):\n",
    "        print('mobile security')"
   ]
  },
  {
   "cell_type": "code",
   "execution_count": 26,
   "id": "e01ca910",
   "metadata": {},
   "outputs": [
    {
     "name": "stdout",
     "output_type": "stream",
     "text": [
      "mobile security\n"
     ]
    }
   ],
   "source": [
    "mob = MobileAPP()\n",
    "mob.security()  # method overriding (runs the method of the object called)"
   ]
  },
  {
   "cell_type": "code",
   "execution_count": null,
   "id": "80791f28",
   "metadata": {},
   "outputs": [],
   "source": []
  }
 ],
 "metadata": {
  "kernelspec": {
   "display_name": "Python 3.9 (tensorflow)",
   "language": "python",
   "name": "tensorflow"
  },
  "language_info": {
   "codemirror_mode": {
    "name": "ipython",
    "version": 3
   },
   "file_extension": ".py",
   "mimetype": "text/x-python",
   "name": "python",
   "nbconvert_exporter": "python",
   "pygments_lexer": "ipython3",
   "version": "3.9.15"
  }
 },
 "nbformat": 4,
 "nbformat_minor": 5
}
