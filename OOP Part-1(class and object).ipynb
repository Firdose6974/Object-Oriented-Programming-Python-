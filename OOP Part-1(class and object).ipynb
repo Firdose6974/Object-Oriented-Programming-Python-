{
 "cells": [
  {
   "cell_type": "markdown",
   "id": "038231d0",
   "metadata": {},
   "source": [
    "# Part-1\n",
    "# 1) Class and Object"
   ]
  },
  {
   "cell_type": "code",
   "execution_count": 1,
   "id": "82ced176",
   "metadata": {},
   "outputs": [
    {
     "name": "stdout",
     "output_type": "stream",
     "text": [
      "<class 'type'>\n"
     ]
    }
   ],
   "source": [
    "l = [1,2,3]\n",
    "print(type(list))"
   ]
  },
  {
   "cell_type": "code",
   "execution_count": 2,
   "id": "8d143371",
   "metadata": {},
   "outputs": [],
   "source": [
    "# l.upper()"
   ]
  },
  {
   "cell_type": "markdown",
   "id": "81b6d3e3",
   "metadata": {},
   "source": [
    "L = [1,2,3]\n",
    "- class is all bulit in data types like list, tuples, sets, dictionaries\n",
    "- object is variable assigned to class (from the above ex: L is the object of list class)\n",
    "- class is a blue print(where some rules are given to the object) cars is a class, maruthi suzuki is an object in class\n",
    "#### syntax to create an object\n",
    "- objectname = classname("
   ]
  },
  {
   "cell_type": "code",
   "execution_count": 3,
   "id": "cf8a1e0a",
   "metadata": {},
   "outputs": [],
   "source": [
    "# pascal scale. --> MyAtm"
   ]
  },
  {
   "cell_type": "markdown",
   "id": "69652bfd",
   "metadata": {},
   "source": [
    "# Lets create an ATM application"
   ]
  },
  {
   "cell_type": "markdown",
   "id": "6de19be6",
   "metadata": {},
   "source": [
    "- functions created inside the class are called as methods\n",
    "- L = [1,2,3]\n",
    "-len(L) --> it is a function\n",
    "-L.append() --> it is a method (as append is created inside the list class)"
   ]
  },
  {
   "cell_type": "markdown",
   "id": "b4cc03f8",
   "metadata": {},
   "source": [
    "### Constructors"
   ]
  },
  {
   "cell_type": "markdown",
   "id": "c5e814d6",
   "metadata": {},
   "source": [
    "-  we use constructor to write configurational code(important/privacy info code)\n",
    "-  we dont give control to user in constructor which are specific to company(privacy)\n",
    "- constructor(special function) is a method, but it is a special method, we dont need to call, it automatically triggers when we create an object of that class\n",
    "- syntax --> def _ _init_ _(self):"
   ]
  },
  {
   "cell_type": "code",
   "execution_count": 8,
   "id": "14081fcf",
   "metadata": {},
   "outputs": [],
   "source": [
    "# method == each individual function"
   ]
  },
  {
   "cell_type": "code",
   "execution_count": 9,
   "id": "36b7c0ce",
   "metadata": {
    "scrolled": true
   },
   "outputs": [],
   "source": [
    "# first lets start by creating a class\n",
    "class Atm:\n",
    "    \n",
    "    # lets create a variable/attributes/data inside the constructor\n",
    "    # self == our class object\n",
    "    def __init__(self):\n",
    "        # 2 objects of class atm -> pin and balance\n",
    "        print(id(self))\n",
    "        self.pin = ''\n",
    "        self.balance = 0\n",
    "        self.menu()\n",
    "        \n",
    "        \n",
    "        \n",
    "    \n",
    "    # lets create menu required for the customer\n",
    "    def menu(self):\n",
    "        user_input = input(''' \n",
    "        Hi how can i help you\n",
    "        1. Press 1 to create pin\n",
    "        2. Press 2 to change pin\n",
    "        3. Press 3 to check balance\n",
    "        4. Press 4 to withdraw\n",
    "        5. Anything else to exit\n",
    "        ''')\n",
    "        \n",
    "        if user_input == '1':\n",
    "            self.create_pin()\n",
    "            \n",
    "        elif user_input == '2':\n",
    "            self.change_pin()\n",
    "            \n",
    "        elif user_input == '3':\n",
    "            self.check_balance()\n",
    "            \n",
    "        elif user_input == '4':\n",
    "            self.withdraw()\n",
    "            \n",
    "        else:\n",
    "            exit()\n",
    "        \n",
    "        \n",
    "    def create_pin(self):\n",
    "        \n",
    "        user_pin = input('enter your pin')\n",
    "        self.pin = user_pin\n",
    "        \n",
    "        # We dont have any flow, just created this\n",
    "        user_balance = int(input('enter balance'))\n",
    "        self.balance = user_balance\n",
    "        \n",
    "        print('Pin created Successfully')\n",
    "        self.menu()\n",
    "        \n",
    "    def change_pin(self):\n",
    "        \n",
    "        old_pin = input('Enter old pin')\n",
    "        if old_pin == self.pin:\n",
    "            # change the pin\n",
    "            new_pin = input('Enter new pin')\n",
    "            self.pin = new_pin\n",
    "            print('pin change successfully')\n",
    "            self.menu()\n",
    "            \n",
    "        else:\n",
    "            # say user to check the pin again\n",
    "            print('Please Check you old pin')\n",
    "            self.menu()\n",
    "            \n",
    "    def check_balance(self):\n",
    "        \n",
    "        user_pin = input('Enter your pin: ')\n",
    "        if user_pin == self.pin:\n",
    "            print('Remaining balance is :$',self.balance)\n",
    "            self.menu()\n",
    "        else:\n",
    "            print('** Wrong Pin **')\n",
    "            print('Please enter correct pin')\n",
    "            self.menu()\n",
    "            \n",
    "    def withdraw(self):\n",
    "        \n",
    "        user_pin = input('Enter your pin')\n",
    "        if user_pin == self.pin:\n",
    "            # withdrawl allow\n",
    "            amount = int(input('enter amount :$'))\n",
    "            \n",
    "            #check the entered amount amount is <= to current balance\n",
    "            if amount <= self.balance:\n",
    "                self.balance = self.balance - amount\n",
    "                print('withdrawl successfull🥳🥳')\n",
    "                print('Remaining balance is :$', self.balance)\n",
    "            else:\n",
    "                print('Unsufficient balance')\n",
    "        else:\n",
    "            print('** Wrong Pin **')\n",
    "            print('Please enter correct pin')\n",
    "            self.menu()\n",
    "       \n"
   ]
  },
  {
   "cell_type": "code",
   "execution_count": 10,
   "id": "137dd7b1",
   "metadata": {
    "scrolled": true
   },
   "outputs": [
    {
     "name": "stdout",
     "output_type": "stream",
     "text": [
      "4359617552\n"
     ]
    },
    {
     "data": {
      "text/plain": [
       "<__main__.Atm at 0x103da7c10>"
      ]
     },
     "execution_count": 10,
     "metadata": {},
     "output_type": "execute_result"
    }
   ],
   "source": [
    "obj = Atm()\n",
    "obj"
   ]
  },
  {
   "cell_type": "code",
   "execution_count": 11,
   "id": "3a6ab9bc",
   "metadata": {},
   "outputs": [
    {
     "data": {
      "text/plain": [
       "4359617552"
      ]
     },
     "execution_count": 11,
     "metadata": {},
     "output_type": "execute_result"
    }
   ],
   "source": [
    "id(obj)"
   ]
  },
  {
   "cell_type": "code",
   "execution_count": null,
   "id": "bf4c483a",
   "metadata": {},
   "outputs": [],
   "source": []
  },
  {
   "cell_type": "markdown",
   "id": "7c848ac2",
   "metadata": {},
   "source": [
    "# Creating own data type"
   ]
  },
  {
   "cell_type": "code",
   "execution_count": 48,
   "id": "d6dcc747",
   "metadata": {},
   "outputs": [],
   "source": [
    "class Fraction:\n",
    "    \n",
    "    # parameterized constructor\n",
    "    def __init__(self, x, y):\n",
    "        self.num = x\n",
    "        self.den = y\n",
    "    \n",
    "    # __str__ is a magic method, triggered when we try to show how 2 fractions looks like\n",
    "    def __str__(self):\n",
    "        return '{}/{}'.format(self.num, self.den)\n",
    "    \n",
    "    # __add__ is a magic methos, triggered by default when we use '+' between 2 fractions\n",
    "    def __add__(self, other):\n",
    "        new_num = self.num * other.den + other.num * self.den\n",
    "        new_den = self.den * other.den\n",
    "        return '{}/{}'.format(new_num, new_den)\n",
    "    \n",
    "    # __sub__ is a magic metod, triggered by default when we use '-' between 2 fractions\n",
    "    def __sub__ (self, other):\n",
    "        new_num = self.num * other.den - other.num * self.den\n",
    "        new_den = self.den * other.den\n",
    "        return '{}/{}'.format(new_num, new_den)\n",
    "    \n",
    "    def __mul__(self, other):\n",
    "        new_num = self.num * other.num\n",
    "        new_den = self.den * other.den\n",
    "        return '{}/{}'.format(new_num, new_den)\n",
    "    \n",
    "    def __truediv__(self, other):\n",
    "        new_num = self.num * other.den\n",
    "        new_den = self.den * other.num\n",
    "        return '{}/{}'.format(new_num, new_den)\n",
    "    \n",
    "    def convert_to_decimal(self):\n",
    "        return self.num/self.den\n",
    "    "
   ]
  },
  {
   "cell_type": "code",
   "execution_count": 52,
   "id": "1bf75764",
   "metadata": {},
   "outputs": [
    {
     "name": "stdout",
     "output_type": "stream",
     "text": [
      "3/4\n"
     ]
    }
   ],
   "source": [
    "fr1 = Fraction(3, 4)\n",
    "fr2 = Fraction(1, 5)\n",
    "print(fr1)"
   ]
  },
  {
   "cell_type": "code",
   "execution_count": 53,
   "id": "7887d54e",
   "metadata": {},
   "outputs": [
    {
     "data": {
      "text/plain": [
       "0.75"
      ]
     },
     "execution_count": 53,
     "metadata": {},
     "output_type": "execute_result"
    }
   ],
   "source": [
    "fr1.convert_to_decimal()"
   ]
  },
  {
   "cell_type": "code",
   "execution_count": 42,
   "id": "d35e51e7",
   "metadata": {},
   "outputs": [
    {
     "name": "stdout",
     "output_type": "stream",
     "text": [
      "13/15\n",
      "7/15\n",
      "2/15\n",
      "10/3\n"
     ]
    }
   ],
   "source": [
    "print(fr1 + fr2)\n",
    "print(fr1 - fr2)\n",
    "print(fr1 * fr2)\n",
    "print(fr1 / fr2)"
   ]
  },
  {
   "cell_type": "code",
   "execution_count": null,
   "id": "cd08cb1a",
   "metadata": {},
   "outputs": [],
   "source": []
  }
 ],
 "metadata": {
  "kernelspec": {
   "display_name": "Python 3.9 (tensorflow)",
   "language": "python",
   "name": "tensorflow"
  },
  "language_info": {
   "codemirror_mode": {
    "name": "ipython",
    "version": 3
   },
   "file_extension": ".py",
   "mimetype": "text/x-python",
   "name": "python",
   "nbconvert_exporter": "python",
   "pygments_lexer": "ipython3",
   "version": "3.9.15"
  }
 },
 "nbformat": 4,
 "nbformat_minor": 5
}
