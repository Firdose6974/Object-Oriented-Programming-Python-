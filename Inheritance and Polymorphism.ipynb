{
 "cells": [
  {
   "cell_type": "markdown",
   "id": "4e42786c",
   "metadata": {},
   "source": [
    "# Inheritance and Polymorphism"
   ]
  },
  {
   "cell_type": "markdown",
   "id": "c12682e6",
   "metadata": {},
   "source": [
    "## Class Relationships\n",
    "- Aggregation\n",
    "- Inheritance"
   ]
  },
  {
   "cell_type": "markdown",
   "id": "32d361c1",
   "metadata": {},
   "source": [
    "## Aggregation --> (has a relation)\n",
    "- Ex : Restaurant has a Menu (Restaurant has a relation with menu)"
   ]
  },
  {
   "cell_type": "code",
   "execution_count": 15,
   "id": "13ebc12c",
   "metadata": {},
   "outputs": [
    {
     "name": "stdout",
     "output_type": "stream",
     "text": [
      "Khammam Telangana 507001\n",
      "Hyderabad Telangana 507001\n"
     ]
    }
   ],
   "source": [
    "class Customer:\n",
    "    \n",
    "    # constructor\n",
    "    def __init__(self, name, gender, address):\n",
    "        self.name = name\n",
    "        self.gender = gender\n",
    "        self.address = address\n",
    "        \n",
    "    def print_address(self):\n",
    "        print(self.address.get_city(), self.address.state, self.address.pin) \n",
    "#         print(self.address._Address__city, self.address.state, self.address.pin) --> accessing private varibles(not allowed to do)\n",
    "    \n",
    "    def edit_profile(self, newName, newCity, newState, newPin):\n",
    "        self.name = newName\n",
    "        self.address.edit_address(newCity, newState, newPin)\n",
    "        \n",
    "\n",
    "class Address:\n",
    "    \n",
    "    # constructor\n",
    "    def __init__(self, city, state, pin):\n",
    "        self.__city = city\n",
    "        self.state = state\n",
    "        self.pin = pin\n",
    "        \n",
    "    #getter\n",
    "    def get_city(self):\n",
    "        return self.__city\n",
    "    \n",
    "    def edit_address(self, newCity, newState, newPin):\n",
    "        self.__city = newCity\n",
    "        self.state  = newState\n",
    "        self.pin = newPin\n",
    "        \n",
    "add1 = Address('Khammam', 'Telangana', 507001)       \n",
    "cust = Customer('Firdose', 'Male', add1)\n",
    "cust.print_address()\n",
    "\n",
    "cust.edit_profile('Shaik', 'Hyderabad', 'Telangana', 507001)\n",
    "cust.print_address()"
   ]
  },
  {
   "cell_type": "code",
   "execution_count": null,
   "id": "69ecb196",
   "metadata": {},
   "outputs": [],
   "source": []
  },
  {
   "cell_type": "markdown",
   "id": "fd75ee70",
   "metadata": {},
   "source": [
    "## Inheritance\n",
    "- What is inheritance\n",
    "- Example\n",
    "- What gets inherited?\n",
    "- syntax -->  class child_class(parent_class)\n",
    "- in class diagram it is represnted thorugh triangle\n",
    "\n",
    "\n",
    "- Main Use --> code reusability/ code redundancy"
   ]
  },
  {
   "cell_type": "markdown",
   "id": "51a61e05",
   "metadata": {},
   "source": [
    "- If there is no constructor in child class, then it will directly go to parent class and uses the parent constructor."
   ]
  },
  {
   "cell_type": "code",
   "execution_count": 21,
   "id": "35789be6",
   "metadata": {},
   "outputs": [
    {
     "name": "stdout",
     "output_type": "stream",
     "text": [
      "Firdose\n",
      "Firdose\n",
      "login\n",
      "enroll into the course\n"
     ]
    }
   ],
   "source": [
    "# parent class\n",
    "class User:\n",
    "    \n",
    "    # constructor\n",
    "    def __init__(self):\n",
    "        self.name = 'Firdose'\n",
    "        self.gender = 'Male'\n",
    "     \n",
    "   # method \n",
    "    def login(self):\n",
    "        print('login')\n",
    "        \n",
    "\n",
    "\n",
    "# child class\n",
    "class Student(User):  # inheritance\n",
    "      \n",
    "     # method   \n",
    "    def enroll(self):\n",
    "        print('enroll into the course')\n",
    "        \n",
    "u = User()\n",
    "s = Student()\n",
    "\n",
    "print(u.name)\n",
    "# print(s.name)\n",
    "s.login()\n",
    "s.enroll()"
   ]
  },
  {
   "cell_type": "code",
   "execution_count": null,
   "id": "c22e006e",
   "metadata": {},
   "outputs": [],
   "source": []
  },
  {
   "cell_type": "markdown",
   "id": "e5592b85",
   "metadata": {},
   "source": [
    "### What is Inherited?\n",
    "\n",
    "- constructor\n",
    "- Non-Private Attributes\n",
    "- Non-Private Methods"
   ]
  },
  {
   "cell_type": "code",
   "execution_count": 39,
   "id": "b90bb0cb",
   "metadata": {},
   "outputs": [
    {
     "name": "stdout",
     "output_type": "stream",
     "text": [
      "Inside Phone Constructor\n",
      "Buying a phone\n"
     ]
    }
   ],
   "source": [
    "# without constructor in child class\n",
    "# If there is no constructor in child class then it uses parent class child\n",
    "\n",
    "# parent class\n",
    "class Phone:\n",
    "    \n",
    "    def __init__(self, price, brand, camera):\n",
    "        print('Inside Phone Constructor')\n",
    "        self.price = price\n",
    "        self.brand = brand\n",
    "        self.camera = camera\n",
    "        \n",
    "    def buy(self):\n",
    "        print('Buying a phone')\n",
    "        \n",
    "\n",
    "# child class       \n",
    "class SmartPhone(Phone):\n",
    "    pass\n",
    "\n",
    "\n",
    "\n",
    "s = SmartPhone(20000, 'Apple', 13)\n",
    "s.buy()"
   ]
  },
  {
   "cell_type": "code",
   "execution_count": 40,
   "id": "b74a2447",
   "metadata": {},
   "outputs": [
    {
     "name": "stdout",
     "output_type": "stream",
     "text": [
      "Inside SmartPhone constructor\n",
      "Buying a phone\n"
     ]
    }
   ],
   "source": [
    "# with constructor in child class\n",
    "## If there is a constructor in child then parent class constructor will never be called\n",
    "\n",
    "# parent class\n",
    "class Phone:\n",
    "    \n",
    "    def __init__(self, price, brand, camera):\n",
    "        print('Inside Phone Constructor')\n",
    "        self.price = price\n",
    "        self.brand = brand\n",
    "        self.camera = camera\n",
    "        \n",
    "        \n",
    "        \n",
    "# child class\n",
    "class SmartPhone(Phone):\n",
    "    \n",
    "    def __init__(self, os, ram):\n",
    "        self.os = os\n",
    "        self.ram = ram\n",
    "        print('Inside SmartPhone constructor')\n",
    "        \n",
    "    def buy(self):\n",
    "        print('Buying a phone')\n",
    "        \n",
    "s = SmartPhone('Andriod', '8')\n",
    "s.buy()"
   ]
  },
  {
   "cell_type": "code",
   "execution_count": 44,
   "id": "67c87656",
   "metadata": {},
   "outputs": [
    {
     "name": "stdout",
     "output_type": "stream",
     "text": [
      "Inside Phone Constructor\n",
      "Apple\n"
     ]
    },
    {
     "ename": "AttributeError",
     "evalue": "'SmartPhone' object has no attribute '__check'",
     "output_type": "error",
     "traceback": [
      "\u001b[0;31m---------------------------------------------------------------------------\u001b[0m",
      "\u001b[0;31mAttributeError\u001b[0m                            Traceback (most recent call last)",
      "Cell \u001b[0;32mIn[44], line 27\u001b[0m\n\u001b[1;32m     25\u001b[0m s \u001b[38;5;241m=\u001b[39m SmartPhone(\u001b[38;5;241m2000\u001b[39m, \u001b[38;5;124m'\u001b[39m\u001b[38;5;124mApple\u001b[39m\u001b[38;5;124m'\u001b[39m, \u001b[38;5;241m13\u001b[39m)\n\u001b[1;32m     26\u001b[0m \u001b[38;5;28mprint\u001b[39m(s\u001b[38;5;241m.\u001b[39mbrand)\n\u001b[0;32m---> 27\u001b[0m \u001b[43ms\u001b[49m\u001b[38;5;241;43m.\u001b[39;49m\u001b[43m__check\u001b[49m()\n",
      "\u001b[0;31mAttributeError\u001b[0m: 'SmartPhone' object has no attribute '__check'"
     ]
    }
   ],
   "source": [
    "# child class cannot access private members of the class\n",
    "\n",
    "# parent class\n",
    "class Phone:\n",
    "    \n",
    "    def __init__(self, price, brand, camera):\n",
    "        print('Inside Phone Constructor')\n",
    "        self.__price = price   # private attribute\n",
    "        self.brand = brand\n",
    "        self.camera = camera\n",
    "     \n",
    "    # getter. --> to access the private members\n",
    "    def __show(self):     # private method\n",
    "        print(self.__price)\n",
    "        \n",
    "        \n",
    "        \n",
    "# child class\n",
    "class SmartPhone(Phone):\n",
    "    \n",
    "    \n",
    "    def check(self):\n",
    "        print(self.__price)\n",
    "    \n",
    "        \n",
    "s = SmartPhone(2000, 'Apple', 13)\n",
    "print(s.brand)\n",
    "s.__check()  # calling private method of parent class"
   ]
  },
  {
   "cell_type": "code",
   "execution_count": null,
   "id": "29689255",
   "metadata": {},
   "outputs": [],
   "source": []
  },
  {
   "cell_type": "markdown",
   "id": "06550204",
   "metadata": {},
   "source": [
    "## Method Overriding\n",
    "- If you have same method name in both the parent and child class, then the funciton which is called in our case its child class, then the method/function in the child is exceuted"
   ]
  },
  {
   "cell_type": "code",
   "execution_count": 48,
   "id": "386881a1",
   "metadata": {},
   "outputs": [
    {
     "name": "stdout",
     "output_type": "stream",
     "text": [
      "Inside Phone Constructor\n",
      "Buying a SmartPhone\n"
     ]
    }
   ],
   "source": [
    "# Method overriding \n",
    "\n",
    "\n",
    "# parent class\n",
    "class Phone:\n",
    "    \n",
    "    def __init__(self, price, brand, camera):\n",
    "        print('Inside Phone Constructor')\n",
    "        self.__price = price   # private attribute\n",
    "        self.brand = brand\n",
    "        self.camera = camera\n",
    "    \n",
    "    def buy(self):\n",
    "        print('Buying a phone')\n",
    "        \n",
    "    \n",
    "class SmartPhone(Phone):\n",
    "    \n",
    "    def buy(self):\n",
    "        print('Buying a SmartPhone')\n",
    "        \n",
    "        \n",
    "s = SmartPhone(25000, 'Apple', 13)\n",
    "s.buy()"
   ]
  },
  {
   "cell_type": "code",
   "execution_count": 54,
   "id": "dfb03ba9",
   "metadata": {},
   "outputs": [
    {
     "name": "stdout",
     "output_type": "stream",
     "text": [
      "Inside Phone Constructor\n",
      "Buying a phone\n"
     ]
    }
   ],
   "source": [
    "# if we call Phone class then obviusly Phone class method will be displayed\n",
    "s = Phone(25000, 'Apple', 13)\n",
    "s.buy()"
   ]
  },
  {
   "cell_type": "markdown",
   "id": "cf925c0f",
   "metadata": {},
   "source": [
    "## Super KeyWord\n",
    "\n",
    "- Super keyword is the way to access the parent class methods in child class.\n",
    "- super keyword can be only used in class(specifically child class)\n",
    "- super keyword can only be used to call methods"
   ]
  },
  {
   "cell_type": "code",
   "execution_count": 57,
   "id": "29fbd1ad",
   "metadata": {},
   "outputs": [
    {
     "name": "stdout",
     "output_type": "stream",
     "text": [
      "Inside the smarphone constructor\n",
      "Inside Phone Constructor\n",
      "Inside the smartphone constructor\n",
      "Andriod\n",
      "Apple\n"
     ]
    }
   ],
   "source": [
    "# parent class\n",
    "class Phone:\n",
    "    \n",
    "    def __init__(self, price, brand, camera):\n",
    "        print('Inside Phone Constructor')\n",
    "        self.__price = price   # private attribute\n",
    "        self.brand = brand\n",
    "        self.camera = camera\n",
    "        \n",
    "    \n",
    "# child class    \n",
    "class SmartPhone(Phone):\n",
    "    \n",
    "    def __init__(self, price, brand, camera, os, ram):\n",
    "        print('Inside the smarphone constructor')\n",
    "        super().__init__(price, brand, camera)  # calling parent method using smart phone\n",
    "        self.os = os\n",
    "        self.ram = ram\n",
    "        print('Inside the smartphone constructor')\n",
    "        \n",
    "s = SmartPhone(25000, 'Apple', 13, 'Andriod', 2)\n",
    "print(s.os)\n",
    "print(s.brand)"
   ]
  },
  {
   "cell_type": "markdown",
   "id": "2e84392d",
   "metadata": {},
   "source": [
    "### Inheritance Summary :\n",
    "- A class can inherit another class\n",
    "- Inheritance improves code resuability\n",
    "- constructor, attributes, methods get inherited (only public) to the child class\n",
    "- The parent class has no access to child class\n",
    "- Private properities of parent are not accessible directly in child class(use super() keyword)\n",
    "- Child class can override the attributes or methods. This is called method overriding.\n",
    "- Super() is an inbuilt function which is used to invoke the parent class methods and constructors"
   ]
  },
  {
   "cell_type": "markdown",
   "id": "66109c0c",
   "metadata": {},
   "source": [
    "## Types of Inheritance\n",
    "- Single Inheritance\n",
    "- Multilevel Inheritance\n",
    "- Hierarchical Inheritance\n",
    "- Multiple Inheritance(Diamond problem)\n",
    "- Hybrid Inheritance"
   ]
  },
  {
   "cell_type": "markdown",
   "id": "8d1ae016",
   "metadata": {},
   "source": [
    "## Polymorphism\n",
    "- Method Overriding --> if there is a same method in both child and parent class and the class which is being called its method will be executed\n",
    "- Method Overloading --> a class has 2 methods with same name, but the input is different. This is helpful in reading and python will automaticcaly consider the number of inputs being passed and trigger that code\n",
    "-- But unfortunatley method overloading is not used in python\n",
    "- Operator Overloading --> "
   ]
  },
  {
   "cell_type": "code",
   "execution_count": null,
   "id": "608ab690",
   "metadata": {},
   "outputs": [],
   "source": []
  }
 ],
 "metadata": {
  "kernelspec": {
   "display_name": "Python 3.9 (tensorflow)",
   "language": "python",
   "name": "tensorflow"
  },
  "language_info": {
   "codemirror_mode": {
    "name": "ipython",
    "version": 3
   },
   "file_extension": ".py",
   "mimetype": "text/x-python",
   "name": "python",
   "nbconvert_exporter": "python",
   "pygments_lexer": "ipython3",
   "version": "3.9.15"
  }
 },
 "nbformat": 4,
 "nbformat_minor": 5
}
